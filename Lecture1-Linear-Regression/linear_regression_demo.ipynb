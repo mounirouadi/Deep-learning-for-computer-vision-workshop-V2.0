{
  "cells": [
    {
      "cell_type": "markdown",
      "metadata": {
        "id": "view-in-github",
        "colab_type": "text"
      },
      "source": [
        "<a href=\"https://colab.research.google.com/github/mounirouadi/Deep-learning-for-computer-vision-workshop-V2.0/blob/main/linear_regression_demo.ipynb\" target=\"_parent\"><img src=\"https://colab.research.google.com/assets/colab-badge.svg\" alt=\"Open In Colab\"/></a>"
      ]
    },
    {
      "cell_type": "markdown",
      "metadata": {
        "id": "8G76Se1JvuJk"
      },
      "source": [
        "# Simple Linear Regression\n",
        "\n",
        "The goal of this project was to build a linear regression model from the ground up using numpy."
      ]
    },
    {
      "cell_type": "code",
      "execution_count": 4,
      "metadata": {
        "id": "I55xmIjVvuJq"
      },
      "outputs": [],
      "source": [
        "%matplotlib inline\n",
        "#imports\n",
        "from numpy import *\n",
        "import matplotlib.pyplot as plt"
      ]
    },
    {
      "cell_type": "markdown",
      "metadata": {
        "collapsed": true,
        "id": "iXEdIIvLvuJt"
      },
      "source": [
        "#### Import the data\n",
        "Here, we're using a dataset with two columns containing the amount of hours studied and the test scores students achieved, respectively."
      ]
    },
    {
      "cell_type": "code",
      "source": [
        "!gdown --id 1bWpaXAsmqfJZXwRHdfUIzB9kHPqqgMWJ"
      ],
      "metadata": {
        "colab": {
          "base_uri": "https://localhost:8080/"
        },
        "id": "njAcu0qSv6xb",
        "outputId": "236ecb5b-eafb-4b33-ff68-fcaa2867aa5e"
      },
      "execution_count": 5,
      "outputs": [
        {
          "output_type": "stream",
          "name": "stdout",
          "text": [
            "Downloading...\n",
            "From: https://drive.google.com/uc?id=1bWpaXAsmqfJZXwRHdfUIzB9kHPqqgMWJ\n",
            "To: /content/data.csv\n",
            "\r  0% 0.00/3.78k [00:00<?, ?B/s]\r100% 3.78k/3.78k [00:00<00:00, 4.84MB/s]\n"
          ]
        }
      ]
    },
    {
      "cell_type": "code",
      "execution_count": 6,
      "metadata": {
        "scrolled": true,
        "colab": {
          "base_uri": "https://localhost:8080/",
          "height": 295
        },
        "id": "URC2s6RLvuJu",
        "outputId": "a4b17a1d-bff6-456e-bcb6-17ae446b9ac1"
      },
      "outputs": [
        {
          "output_type": "display_data",
          "data": {
            "image/png": "[encoded data removed]",
            "text/plain": [
              "<Figure size 432x288 with 1 Axes>"
            ]
          },
          "metadata": {
            "needs_background": "light"
          }
        }
      ],
      "source": [
        "points = genfromtxt('data.csv', delimiter=',')\n",
        "\n",
        "#Extract columns\n",
        "x = array(points[:,0])\n",
        "y = array(points[:,1])\n",
        "\n",
        "#Plot the dataset\n",
        "plt.scatter(x,y)\n",
        "plt.xlabel('Hours of study')\n",
        "plt.ylabel('Test scores')\n",
        "plt.title('Dataset')\n",
        "plt.show()"
      ]
    },
    {
      "cell_type": "markdown",
      "metadata": {
        "id": "nbQSJlNpvuJx"
      },
      "source": [
        "#### Defining the hyperparamters"
      ]
    },
    {
      "cell_type": "code",
      "execution_count": 7,
      "metadata": {
        "id": "mJQK4MWivuJy"
      },
      "outputs": [],
      "source": [
        "#hyperparamters\n",
        "learning_rate = 0.0001\n",
        "initial_b = 0\n",
        "initial_w = 0\n",
        "num_iterations = 10"
      ]
    },
    {
      "cell_type": "markdown",
      "metadata": {
        "id": "PqiXvcoAvuJz"
      },
      "source": [
        "#### Define cost function"
      ]
    },
    {
      "cell_type": "code",
      "execution_count": 8,
      "metadata": {
        "id": "CIoo0r0WvuJz"
      },
      "outputs": [],
      "source": [
        "def compute_cost(b, w, points):\n",
        "    total_cost = 0\n",
        "    n = len(points)\n",
        "    \n",
        "    #Compute sum of squared errors\n",
        "    for i in range(0, n):\n",
        "        x = points[i, 0]\n",
        "        y = points[i, 1]\n",
        "        total_cost += (y - (w * x + b)) ** 2\n",
        "        \n",
        "    #Return average of squared error\n",
        "    return total_cost/n"
      ]
    },
    {
      "cell_type": "markdown",
      "metadata": {
        "id": "3ujna3FRvuJ0"
      },
      "source": [
        "#### Define Gradient Descent functions"
      ]
    },
    {
      "cell_type": "code",
      "execution_count": 9,
      "metadata": {
        "id": "h27G4ue1vuJ1"
      },
      "outputs": [],
      "source": [
        "def step_gradient(b_current, w_current, points, learning_rate):\n",
        "    w_gradient = 0\n",
        "    b_gradient = 0\n",
        "    n = len(points)\n",
        "\n",
        "    #Calculate Gradient\n",
        "    for i in range(0, n):\n",
        "        x = points[i, 0]\n",
        "        y = points[i, 1]\n",
        "        w_gradient +=  (2/n) * x * (y - (w_current * x + b_current))\n",
        "        b_gradient +=  (2/n) * (y - (w_current * x + b_current))\n",
        "    \n",
        "    #Update current m and b\n",
        "    w_updated = w_current + learning_rate * w_gradient\n",
        "    b_updated = b_current + learning_rate * b_gradient\n",
        "\n",
        "    #Return updated parameters\n",
        "    return b_updated, w_updated\n",
        "\n",
        "################################################################################################################################\n",
        "\n",
        "def gradient_descent_runner(points, starting_b, starting_w, learning_rate, num_iterations):\n",
        "    b = starting_b\n",
        "    w = starting_w\n",
        "    cost_graph = []\n",
        "\n",
        "    #For every iteration, optimize b, w and compute its cost\n",
        "    for i in range(num_iterations):\n",
        "        cost_graph.append(compute_cost(b, w, points))\n",
        "        b, w = step_gradient(b, w, array(points), learning_rate)\n",
        "\n",
        "    return [b, w, cost_graph]"
      ]
    },
    {
      "cell_type": "markdown",
      "metadata": {
        "id": "rwFeGs-pvuJ3"
      },
      "source": [
        "#### Run gradient_descent_runner() to get optimized parameters b and m"
      ]
    },
    {
      "cell_type": "code",
      "execution_count": 10,
      "metadata": {
        "scrolled": true,
        "colab": {
          "base_uri": "https://localhost:8080/"
        },
        "id": "5_nICIeqvuJ3",
        "outputId": "a029014c-cce9-42e3-99d2-697629ea83b7"
      },
      "outputs": [
        {
          "output_type": "stream",
          "name": "stdout",
          "text": [
            "Optimized b: 0.02963934787473239\n",
            "Optimized w: 1.4774173755483797\n",
            "Minimized cost: 112.65585181499746\n"
          ]
        }
      ],
      "source": [
        "b, w, cost_graph = gradient_descent_runner(points, initial_b, initial_w, learning_rate, num_iterations)\n",
        "\n",
        "#Print optimized parameters\n",
        "print ('Optimized b:', b)\n",
        "print ('Optimized w:', w)\n",
        "\n",
        "#Print error with optimized parameters\n",
        "print ('Minimized cost:', compute_cost(b, w, points))"
      ]
    },
    {
      "cell_type": "markdown",
      "metadata": {
        "id": "AIozy3fcvuJ5"
      },
      "source": [
        "#### Plotting the cost per iterations"
      ]
    },
    {
      "cell_type": "code",
      "execution_count": 11,
      "metadata": {
        "scrolled": false,
        "colab": {
          "base_uri": "https://localhost:8080/",
          "height": 295
        },
        "id": "6zMPu3SrvuJ6",
        "outputId": "566bf043-08ad-443b-d0ea-b494e6cabe47"
      },
      "outputs": [
        {
          "output_type": "display_data",
          "data": {
            "image/png": "[encoded data removed]",
            "text/plain": [
              "<Figure size 432x288 with 1 Axes>"
            ]
          },
          "metadata": {
            "needs_background": "light"
          }
        }
      ],
      "source": [
        "plt.plot(cost_graph)\n",
        "plt.xlabel('No. of iterations')\n",
        "plt.ylabel('Cost')\n",
        "plt.title('Cost per iteration')\n",
        "plt.show()"
      ]
    },
    {
      "cell_type": "markdown",
      "metadata": {
        "id": "TB7tDao6vuJ7"
      },
      "source": [
        "Gradient descent converges to local minimum after 5 iterations"
      ]
    },
    {
      "cell_type": "markdown",
      "metadata": {
        "id": "IuAWUQgTvuJ7"
      },
      "source": [
        "#### Plot line of best fit"
      ]
    },
    {
      "cell_type": "code",
      "execution_count": 12,
      "metadata": {
        "scrolled": false,
        "colab": {
          "base_uri": "https://localhost:8080/",
          "height": 295
        },
        "id": "0jw-0MgwvuJ8",
        "outputId": "cff2b1a0-0997-4f8f-cbca-54af9ececa37"
      },
      "outputs": [
        {
          "output_type": "display_data",
          "data": {
            "image/png": "[encoded data removed]",
            "text/plain": [
              "<Figure size 432x288 with 1 Axes>"
            ]
          },
          "metadata": {
            "needs_background": "light"
          }
        }
      ],
      "source": [
        "#Plot dataset\n",
        "plt.scatter(x, y)\n",
        "#Predict y values\n",
        "pred = w * x + b\n",
        "#Plot predictions as line of best fit\n",
        "plt.plot(x, pred, c = 'g')\n",
        "plt.xlabel('Hours of study')\n",
        "plt.ylabel('Test scores')\n",
        "plt.title('Line of best fit')\n",
        "plt.show()"
      ]
    }
  ],
  "metadata": {
    "kernelspec": {
      "display_name": "Python 3",
      "language": "python",
      "name": "python3"
    },
    "language_info": {
      "codemirror_mode": {
        "name": "ipython",
        "version": 3
      },
      "file_extension": ".py",
      "mimetype": "text/x-python",
      "name": "python",
      "nbconvert_exporter": "python",
      "pygments_lexer": "ipython3",
      "version": "3.8.7"
    },
    "colab": {
      "name": "linear-regression-demo.ipynb",
      "provenance": [],
      "include_colab_link": true
    }
  },
  "nbformat": 4,
  "nbformat_minor": 0
}