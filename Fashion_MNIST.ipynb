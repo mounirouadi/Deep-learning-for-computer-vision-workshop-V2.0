{
  "cells": [
    {
      "cell_type": "markdown",
      "metadata": {
        "id": "view-in-github",
        "colab_type": "text"
      },
      "source": [
        "<a href=\"https://colab.research.google.com/github/mounirouadi/Deep-learning-for-computer-vision-workshop-V2.0/blob/main/Fashion_MNIST.ipynb\" target=\"_parent\"><img src=\"https://colab.research.google.com/assets/colab-badge.svg\" alt=\"Open In Colab\"/></a>"
      ]
    },
    {
      "cell_type": "code",
      "execution_count": null,
      "id": "detailed-costs",
      "metadata": {
        "id": "detailed-costs"
      },
      "outputs": [],
      "source": [
        "import keras\n",
        "import numpy as np \n",
        "import matplotlib.pyplot as plt"
      ]
    },
    {
      "cell_type": "code",
      "execution_count": null,
      "id": "terminal-hayes",
      "metadata": {
        "id": "terminal-hayes"
      },
      "outputs": [],
      "source": [
        "(train_images, train_labels), (test_images, test_labels)= keras.datasets.fashion_mnist.load_data()"
      ]
    },
    {
      "cell_type": "code",
      "execution_count": null,
      "id": "consistent-relationship",
      "metadata": {
        "id": "consistent-relationship",
        "outputId": "c7f6ca31-c940-4a47-c086-7478d38aeb59"
      },
      "outputs": [
        {
          "name": "stdout",
          "output_type": "stream",
          "text": [
            "train images shape : (60000, 28, 28)\n",
            "train lables shape : (60000,)\n",
            "test images shape : (10000, 28, 28)\n",
            "test lables shape : (10000,)\n"
          ]
        }
      ],
      "source": [
        "print('train images shape :',train_images.shape)\n",
        "print('train lables shape :',train_labels.shape)\n",
        "print('test images shape :',test_images.shape)\n",
        "print('test lables shape :',test_labels.shape)"
      ]
    },
    {
      "cell_type": "markdown",
      "id": "rural-peter",
      "metadata": {
        "id": "rural-peter"
      },
      "source": [
        "# Label\tDescription\n",
        "0    T-shirt/top\n",
        "\n",
        "1\tTrouser\n",
        "\n",
        "2\tPullover\n",
        "\n",
        "3\tDress\n",
        "\n",
        "4\tCoat\n",
        "\n",
        "5\tSandal\n",
        "\n",
        "6\tShirt\n",
        "\n",
        "7\tSneaker\n",
        "\n",
        "8\tBag\n",
        "\n",
        "9\tAnkle boot"
      ]
    },
    {
      "cell_type": "code",
      "execution_count": null,
      "id": "bronze-proxy",
      "metadata": {
        "id": "bronze-proxy",
        "outputId": "859b4820-4a4e-4582-ff69-ff056553e875"
      },
      "outputs": [
        {
          "data": {
            "image/png": "[encoded data removed]",
            "text/plain": [
              "<Figure size 2016x2016 with 10 Axes>"
            ]
          },
          "metadata": {
            "needs_background": "light"
          },
          "output_type": "display_data"
        }
      ],
      "source": [
        "fig, axes = plt.subplots(1,10,figsize=(28,28))\n",
        "\n",
        "for i in range(10):\n",
        "    axes[i].set_axis_off()\n",
        "    axes[i].imshow(train_images[i], cmap='binary')\n",
        "    axes[i].set_title(train_labels[i])"
      ]
    },
    {
      "cell_type": "code",
      "execution_count": null,
      "id": "disciplinary-affiliation",
      "metadata": {
        "id": "disciplinary-affiliation",
        "outputId": "63221abf-ff66-4cba-d79e-fd50550d6061"
      },
      "outputs": [
        {
          "name": "stdout",
          "output_type": "stream",
          "text": [
            "Model: \"sequential_4\"\n",
            "_________________________________________________________________\n",
            "Layer (type)                 Output Shape              Param #   \n",
            "=================================================================\n",
            "flatten_4 (Flatten)          (None, 784)               0         \n",
            "_________________________________________________________________\n",
            "dense_8 (Dense)              (None, 512)               401920    \n",
            "_________________________________________________________________\n",
            "dense_9 (Dense)              (None, 10)                5130      \n",
            "=================================================================\n",
            "Total params: 407,050\n",
            "Trainable params: 407,050\n",
            "Non-trainable params: 0\n",
            "_________________________________________________________________\n"
          ]
        }
      ],
      "source": [
        "from keras import models\n",
        "from keras import layers\n",
        "\n",
        "network = models.Sequential()\n",
        "network.add(layers.Flatten(input_shape=(28,28)))\n",
        "network.add(layers.Dense(512, activation='relu', input_shape=(28,28)))\n",
        "network.add(layers.Dense(10, activation='softmax'))\n",
        "network.summary()"
      ]
    },
    {
      "cell_type": "code",
      "execution_count": null,
      "id": "floating-february",
      "metadata": {
        "id": "floating-february",
        "outputId": "1e8b1f74-1fc7-43e3-d80e-1bc405b12bee"
      },
      "outputs": [
        {
          "data": {
            "text/plain": [
              "<bound method Model.summary of <tensorflow.python.keras.engine.sequential.Sequential object at 0x000001B9E8C10670>>"
            ]
          },
          "execution_count": 30,
          "metadata": {},
          "output_type": "execute_result"
        }
      ],
      "source": [
        "network.compile(optimizer='Adam',\n",
        "                loss='categorical_crossentropy',\n",
        "                metrics=['accuracy'])\n",
        "my_callbacks = [\n",
        "    keras.callbacks.ModelCheckpoint(filepath='model.h5',verbose=1)\n",
        "]"
      ]
    },
    {
      "cell_type": "code",
      "execution_count": null,
      "id": "stopped-encounter",
      "metadata": {
        "id": "stopped-encounter"
      },
      "outputs": [],
      "source": [
        "from keras.utils import to_categorical\n",
        "\n",
        "train_images/255\n",
        "test_images/255\n",
        "train_labels = to_categorical(train_labels)\n",
        "test_labels = to_categorical(test_labels)"
      ]
    },
    {
      "cell_type": "code",
      "execution_count": null,
      "id": "afraid-republic",
      "metadata": {
        "id": "afraid-republic",
        "outputId": "45642d3d-ab8d-4b02-eb10-978afa506637"
      },
      "outputs": [
        {
          "name": "stdout",
          "output_type": "stream",
          "text": [
            "Epoch 1/10\n",
            "469/469 [==============================] - 4s 8ms/step - loss: 0.3913 - accuracy: 0.8679\n",
            "\n",
            "Epoch 00001: saving model to model.h5\n",
            "Epoch 2/10\n",
            "469/469 [==============================] - 4s 9ms/step - loss: 0.3492 - accuracy: 0.8763\n",
            "\n",
            "Epoch 00002: saving model to model.h5\n",
            "Epoch 3/10\n",
            "469/469 [==============================] - 3s 7ms/step - loss: 0.3447 - accuracy: 0.8776\n",
            "\n",
            "Epoch 00003: saving model to model.h5\n",
            "Epoch 4/10\n",
            "469/469 [==============================] - 3s 7ms/step - loss: 0.3398 - accuracy: 0.8783\n",
            "\n",
            "Epoch 00004: saving model to model.h5\n",
            "Epoch 5/10\n",
            "469/469 [==============================] - 4s 7ms/step - loss: 0.3424 - accuracy: 0.8786\n",
            "\n",
            "Epoch 00005: saving model to model.h5\n",
            "Epoch 6/10\n",
            "469/469 [==============================] - 3s 7ms/step - loss: 0.3336 - accuracy: 0.8800\n",
            "\n",
            "Epoch 00006: saving model to model.h5\n",
            "Epoch 7/10\n",
            "469/469 [==============================] - 4s 8ms/step - loss: 0.3373 - accuracy: 0.8806\n",
            "\n",
            "Epoch 00007: saving model to model.h5\n",
            "Epoch 8/10\n",
            "469/469 [==============================] - 5s 10ms/step - loss: 0.3364 - accuracy: 0.8801\n",
            "\n",
            "Epoch 00008: saving model to model.h5\n",
            "Epoch 9/10\n",
            "469/469 [==============================] - 4s 9ms/step - loss: 0.3347 - accuracy: 0.8810\n",
            "\n",
            "Epoch 00009: saving model to model.h5\n",
            "Epoch 10/10\n",
            "469/469 [==============================] - 4s 9ms/step - loss: 0.3383 - accuracy: 0.8811\n",
            "\n",
            "Epoch 00010: saving model to model.h5\n"
          ]
        }
      ],
      "source": [
        "history = network.fit(train_images, train_labels,callbacks=my_callbacks, epochs=10,batch_size=128)"
      ]
    },
    {
      "cell_type": "code",
      "execution_count": null,
      "id": "acquired-consideration",
      "metadata": {
        "id": "acquired-consideration",
        "outputId": "3832bc25-d1c5-4a08-85f7-3ec41ffbb043"
      },
      "outputs": [
        {
          "name": "stdout",
          "output_type": "stream",
          "text": [
            "313/313 [==============================] - 1s 2ms/step - loss: 0.5570 - accuracy: 0.8306\n"
          ]
        }
      ],
      "source": [
        "test_loss, test_acc = network.evaluate(test_images, test_labels)"
      ]
    },
    {
      "cell_type": "code",
      "execution_count": null,
      "id": "unusual-concentrate",
      "metadata": {
        "id": "unusual-concentrate",
        "outputId": "2a56de7f-9265-4ddc-f822-935f9d5f8c3a"
      },
      "outputs": [
        {
          "data": {
            "text/plain": [
              "Text(0.5, 0, 'epoch')"
            ]
          },
          "execution_count": 27,
          "metadata": {},
          "output_type": "execute_result"
        },
        {
          "data": {
            "image/png": "[encoded data removed]",
            "text/plain": [
              "<Figure size 432x288 with 1 Axes>"
            ]
          },
          "metadata": {
            "needs_background": "light"
          },
          "output_type": "display_data"
        }
      ],
      "source": [
        "#plotting the loss graph \n",
        "plt.plot(history.history['loss'])\n",
        "#plt.plot(history.history['val_loss'])\n",
        "plt.legend(['training' , 'validation'])\n",
        "plt.title('loss')\n",
        "plt.xlabel('epoch')"
      ]
    },
    {
      "cell_type": "code",
      "execution_count": null,
      "id": "regulation-counter",
      "metadata": {
        "scrolled": true,
        "id": "regulation-counter",
        "outputId": "7dc2f00f-b598-4f5f-e651-540c152104af"
      },
      "outputs": [
        {
          "data": {
            "text/plain": [
              "Text(0.5, 0, 'epoch')"
            ]
          },
          "execution_count": 28,
          "metadata": {},
          "output_type": "execute_result"
        },
        {
          "data": {
            "image/png": "[encoded data removed]",
            "text/plain": [
              "<Figure size 432x288 with 1 Axes>"
            ]
          },
          "metadata": {
            "needs_background": "light"
          },
          "output_type": "display_data"
        }
      ],
      "source": [
        "#plotting the accuracy graph \n",
        "plt.plot(history.history['accuracy'])\n",
        "#plt.plot(history.history['val_acc'])\n",
        "plt.legend(['training' , 'validation'])\n",
        "plt.title('Accuracy')\n",
        "plt.xlabel('epoch')"
      ]
    },
    {
      "cell_type": "markdown",
      "id": "strong-hunger",
      "metadata": {
        "id": "strong-hunger"
      },
      "source": [
        "# Predictions"
      ]
    },
    {
      "cell_type": "code",
      "execution_count": null,
      "id": "empty-metro",
      "metadata": {
        "id": "empty-metro",
        "outputId": "63fb7be6-3cf0-4c5f-e5f2-8eee0dda3d40"
      },
      "outputs": [
        {
          "name": "stdout",
          "output_type": "stream",
          "text": [
            "the model predicted a 4\n"
          ]
        },
        {
          "data": {
            "image/png": "[encoded data removed]",
            "text/plain": [
              "<Figure size 432x288 with 1 Axes>"
            ]
          },
          "metadata": {
            "needs_background": "light"
          },
          "output_type": "display_data"
        }
      ],
      "source": [
        "i= 762\n",
        "model  = keras.models.load_model('model.h5')\n",
        "output = model.predict(test_images[i].reshape(1,28,28))\n",
        "\n",
        "plt.imshow(test_images[i], cmap= 'binary')\n",
        "print(\"the model predicted a\", np.argmax(output))"
      ]
    },
    {
      "cell_type": "markdown",
      "id": "refined-copper",
      "metadata": {
        "id": "refined-copper"
      },
      "source": [
        "# Label\tDescription\n",
        "0    T-shirt/top\n",
        "\n",
        "1\tTrouser\n",
        "\n",
        "2\tPullover\n",
        "\n",
        "3\tDress\n",
        "\n",
        "4\tCoat\n",
        "\n",
        "5\tSandal\n",
        "\n",
        "6\tShirt\n",
        "\n",
        "7\tSneaker\n",
        "\n",
        "8\tBag\n",
        "\n",
        "9\tAnkle boot"
      ]
    }
  ],
  "metadata": {
    "kernelspec": {
      "display_name": "Python 3",
      "language": "python",
      "name": "python3"
    },
    "language_info": {
      "codemirror_mode": {
        "name": "ipython",
        "version": 3
      },
      "file_extension": ".py",
      "mimetype": "text/x-python",
      "name": "python",
      "nbconvert_exporter": "python",
      "pygments_lexer": "ipython3",
      "version": "3.8.7"
    },
    "colab": {
      "name": "Fashion_MNIST.ipynb",
      "provenance": [],
      "include_colab_link": true
    }
  },
  "nbformat": 4,
  "nbformat_minor": 5
}