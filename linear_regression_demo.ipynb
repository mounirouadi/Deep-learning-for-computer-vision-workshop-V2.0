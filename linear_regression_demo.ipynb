{
  "cells": [
    {
      "cell_type": "markdown",
      "metadata": {
        "id": "view-in-github",
        "colab_type": "text"
      },
      "source": [
        "<a href=\"https://colab.research.google.com/github/mounirouadi/Deep-learning-for-computer-vision-workshop-V2.0/blob/main/linear_regression_demo.ipynb\" target=\"_parent\"><img src=\"https://colab.research.google.com/assets/colab-badge.svg\" alt=\"Open In Colab\"/></a>"
      ]
    },
    {
      "cell_type": "markdown",
      "metadata": {
        "id": "-Vesjw6uyShk"
      },
      "source": [
        "# Simple Linear Regression\n",
        "\n",
        "The goal of this project was to build a linear regression model from the ground up using numpy."
      ]
    },
    {
      "cell_type": "code",
      "execution_count": null,
      "metadata": {
        "id": "YmMtNO_gySho"
      },
      "outputs": [],
      "source": [
        "%matplotlib inline\n",
        "#imports\n",
        "from numpy import *\n",
        "import matplotlib.pyplot as pl"
      ]
    },
    {
      "cell_type": "markdown",
      "metadata": {
        "collapsed": true,
        "id": "F0shl4xbyShp"
      },
      "source": [
        "#### Import the data\n",
        "Here, we're using a dataset with two columns containing the amount of hours studied and the test scores students achieved, respectively."
      ]
    },
    {
      "cell_type": "code",
      "execution_count": null,
      "metadata": {
        "scrolled": true,
        "id": "JNoH9SUKyShq",
        "outputId": "030d5258-5caa-48f7-aa06-13c9a6842856"
      },
      "outputs": [
        {
          "data": {
            "image/png": "[encoded data removed]",
            "text/plain": [
              "<Figure size 432x288 with 1 Axes>"
            ]
          },
          "metadata": {
            "needs_background": "light"
          },
          "output_type": "display_data"
        }
      ],
      "source": [
        "points = genfromtxt('data.csv', delimiter=',')\n",
        "\n",
        "#Extract columns\n",
        "x = array(points[:,0])\n",
        "y = array(points[:,1])\n",
        "\n",
        "#Plot the dataset\n",
        "plt.scatter(x,y)\n",
        "plt.xlabel('Hours of study')\n",
        "plt.ylabel('Test scores')\n",
        "plt.title('Dataset')\n",
        "plt.show()"
      ]
    },
    {
      "cell_type": "markdown",
      "metadata": {
        "id": "ZIcT8Ec4yShr"
      },
      "source": [
        "#### Defining the hyperparamters"
      ]
    },
    {
      "cell_type": "code",
      "execution_count": null,
      "metadata": {
        "id": "jW_TnymJyShr"
      },
      "outputs": [],
      "source": [
        "#hyperparamters\n",
        "learning_rate = 0.0001\n",
        "initial_b = 0\n",
        "initial_w = 0\n",
        "num_iterations = 10"
      ]
    },
    {
      "cell_type": "markdown",
      "metadata": {
        "id": "rwV91VGbyShs"
      },
      "source": [
        "#### Define cost function"
      ]
    },
    {
      "cell_type": "code",
      "execution_count": null,
      "metadata": {
        "id": "JWM6G5FfyShs"
      },
      "outputs": [],
      "source": [
        "def compute_cost(b, w, points):\n",
        "    total_cost = 0\n",
        "    n = len(points)\n",
        "    \n",
        "    #Compute sum of squared errors\n",
        "    for i in range(0, n):\n",
        "        x = points[i, 0]\n",
        "        y = points[i, 1]\n",
        "        total_cost += (y - (w * x + b)) ** 2\n",
        "        \n",
        "    #Return average of squared error\n",
        "    return total_cost/n"
      ]
    },
    {
      "cell_type": "markdown",
      "metadata": {
        "id": "WHdpzGiSySht"
      },
      "source": [
        "#### Define Gradient Descent functions"
      ]
    },
    {
      "cell_type": "code",
      "execution_count": null,
      "metadata": {
        "id": "qSoox9fqySht"
      },
      "outputs": [],
      "source": [
        "def step_gradient(b_current, w_current, points, learning_rate):\n",
        "    w_gradient = 0\n",
        "    b_gradient = 0\n",
        "    n = len(points)\n",
        "\n",
        "    #Calculate Gradient\n",
        "    for i in range(0, n):\n",
        "        x = points[i, 0]\n",
        "        y = points[i, 1]\n",
        "        w_gradient +=  (2/n) * x * (y - (w_current * x + b_current))\n",
        "        b_gradient +=  (2/n) * (y - (w_current * x + b_current))\n",
        "    \n",
        "    #Update current m and b\n",
        "    w_updated = w_current + learning_rate * w_gradient\n",
        "    b_updated = b_current + learning_rate * b_gradient\n",
        "\n",
        "    #Return updated parameters\n",
        "    return b_updated, w_updated\n",
        "\n",
        "################################################################################################################################\n",
        "\n",
        "def gradient_descent_runner(points, starting_b, starting_w, learning_rate, num_iterations):\n",
        "    b = starting_b\n",
        "    w = starting_w\n",
        "    cost_graph = []\n",
        "\n",
        "    #For every iteration, optimize b, w and compute its cost\n",
        "    for i in range(num_iterations):\n",
        "        cost_graph.append(compute_cost(b, w, points))\n",
        "        b, w = step_gradient(b, w, array(points), learning_rate)\n",
        "\n",
        "    return [b, w, cost_graph]"
      ]
    },
    {
      "cell_type": "markdown",
      "metadata": {
        "id": "Srap3pz-yShu"
      },
      "source": [
        "#### Run gradient_descent_runner() to get optimized parameters b and m"
      ]
    },
    {
      "cell_type": "code",
      "execution_count": null,
      "metadata": {
        "scrolled": true,
        "id": "22Vr7FH5yShu",
        "outputId": "bf98d241-f99e-478a-de71-fb0d740196f2"
      },
      "outputs": [
        {
          "name": "stdout",
          "output_type": "stream",
          "text": [
            "Optimized b: 0.02963934787473239\n",
            "Optimized w: 1.4774173755483797\n",
            "Minimized cost: 112.65585181499746\n"
          ]
        }
      ],
      "source": [
        "b, w, cost_graph = gradient_descent_runner(points, initial_b, initial_w, learning_rate, num_iterations)\n",
        "\n",
        "#Print optimized parameters\n",
        "print ('Optimized b:', b)\n",
        "print ('Optimized w:', w)\n",
        "\n",
        "#Print error with optimized parameters\n",
        "print ('Minimized cost:', compute_cost(b, w, points))"
      ]
    },
    {
      "cell_type": "markdown",
      "metadata": {
        "id": "nhbdwrylyShv"
      },
      "source": [
        "#### Plotting the cost per iterations"
      ]
    },
    {
      "cell_type": "code",
      "execution_count": null,
      "metadata": {
        "scrolled": false,
        "id": "kVYI_wAiyShv",
        "outputId": "69dfb87e-a00d-4606-bc2b-1f2b875aed0b"
      },
      "outputs": [
        {
          "data": {
            "image/png": "[encoded data removed]",
            "text/plain": [
              "<Figure size 432x288 with 1 Axes>"
            ]
          },
          "metadata": {
            "needs_background": "light"
          },
          "output_type": "display_data"
        }
      ],
      "source": [
        "plt.plot(cost_graph)\n",
        "plt.xlabel('No. of iterations')\n",
        "plt.ylabel('Cost')\n",
        "plt.title('Cost per iteration')\n",
        "plt.show()"
      ]
    },
    {
      "cell_type": "markdown",
      "metadata": {
        "id": "k5QAPI7oyShv"
      },
      "source": [
        "Gradient descent converges to local minimum after 5 iterations"
      ]
    },
    {
      "cell_type": "markdown",
      "metadata": {
        "id": "olAX8kHjyShw"
      },
      "source": [
        "#### Plot line of best fit"
      ]
    },
    {
      "cell_type": "code",
      "execution_count": null,
      "metadata": {
        "scrolled": false,
        "id": "QIewnG-pyShw",
        "outputId": "72f1e986-32de-4cb7-ec9a-26183974228d"
      },
      "outputs": [
        {
          "data": {
            "image/png": "[encoded data removed]",
            "text/plain": [
              "<Figure size 432x288 with 1 Axes>"
            ]
          },
          "metadata": {
            "needs_background": "light"
          },
          "output_type": "display_data"
        }
      ],
      "source": [
        "#Plot dataset\n",
        "plt.scatter(x, y)\n",
        "#Predict y values\n",
        "pred = w * x + b\n",
        "#Plot predictions as line of best fit\n",
        "plt.plot(x, pred, c = 'g')\n",
        "plt.xlabel('Hours of study')\n",
        "plt.ylabel('Test scores')\n",
        "plt.title('Line of best fit')\n",
        "plt.show()"
      ]
    }
  ],
  "metadata": {
    "kernelspec": {
      "display_name": "Python 3",
      "language": "python",
      "name": "python3"
    },
    "language_info": {
      "codemirror_mode": {
        "name": "ipython",
        "version": 3
      },
      "file_extension": ".py",
      "mimetype": "text/x-python",
      "name": "python",
      "nbconvert_exporter": "python",
      "pygments_lexer": "ipython3",
      "version": "3.8.7"
    },
    "colab": {
      "name": "linear-regression-demo.ipynb",
      "provenance": [],
      "include_colab_link": true
    }
  },
  "nbformat": 4,
  "nbformat_minor": 0
}